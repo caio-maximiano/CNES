{
 "cells": [
  {
   "cell_type": "code",
   "execution_count": null,
   "id": "7977181a",
   "metadata": {},
   "outputs": [],
   "source": [
    "from pyspark.sql import SparkSession\n",
    "from pyspark.sql.functions import *\n",
    "from soupsieve import select\n",
    "\n",
    "spark = SparkSession \\\n",
    "        .builder \\\n",
    "        .appName(\"teste2\") \\\n",
    "        .getOrCreate()"
   ]
  },
  {
   "cell_type": "code",
   "execution_count": 4,
   "id": "40467e2f",
   "metadata": {},
   "outputs": [],
   "source": [
    "#ts=spark.sql(\"\"\" select current_timestamp() as ctime \"\"\").collect()[0][\"ctime\"]\n",
    "#ano_mes = ts.strftime(\"%Y%m\")\n",
    "ano_mes = 202205"
   ]
  },
  {
   "cell_type": "markdown",
   "id": "2fa717e4",
   "metadata": {},
   "source": [
    "### Extraindo arquivos CSV"
   ]
  },
  {
   "cell_type": "code",
   "execution_count": 23,
   "id": "34dec846",
   "metadata": {},
   "outputs": [],
   "source": [
    "tbCargaHorariaSus = spark.read\\\n",
    "                    .option(\"header\", \"true\")\\\n",
    "                    .option(\"delimiter\", \";\")\\\n",
    "                    .csv(f\"/home/caio/Documents/PFC/CSV_FILES/{202205}/tbCargaHorariaSus{202205}.csv\")\n",
    "\n",
    "rlEstabServClass = spark.read\\\n",
    "                    .option(\"header\", \"true\")\\\n",
    "                    .option(\"delimiter\", \";\")\\\n",
    "                    .csv(f\"/home/caio/Documents/PFC/CSV_FILES/{202205}/rlEstabServClass{202205}.csv\")\n",
    "\n",
    "tbAtividadeProfissional = spark.read\\\n",
    "                    .option(\"header\", \"true\")\\\n",
    "                    .option(\"delimiter\", \";\")\\\n",
    "                    .csv(f\"/home/caio/Documents/PFC/CSV_FILES/{202205}/tbAtividadeProfissional{202205}.csv\")\n",
    "\n",
    "tbClassificacaoServico = spark.read\\\n",
    "                    .option(\"header\", \"true\")\\\n",
    "                    .option(\"delimiter\", \";\")\\\n",
    "                    .csv(f\"/home/caio/Documents/PFC/CSV_FILES/{202205}/tbClassificacaoServico{202205}.csv\")\n",
    "\n",
    "tbDadosProfissionalSus = spark.read\\\n",
    "                    .option(\"header\", \"true\")\\\n",
    "                    .option(\"delimiter\", \";\")\\\n",
    "                    .csv(f\"/home/caio/Documents/PFC/CSV_FILES/{202205}/tbDadosProfissionalSus{202205}.csv\")\n",
    "\n",
    "tbEstabelecimento = spark.read\\\n",
    "                    .option(\"header\", \"true\")\\\n",
    "                    .option(\"delimiter\", \";\")\\\n",
    "                    .csv(f\"/home/caio/Documents/PFC/CSV_FILES/{202205}/tbEstabelecimento{202205}.csv\")\n",
    "\n",
    "tbMunicipio = spark.read\\\n",
    "                    .option(\"header\", \"true\")\\\n",
    "                    .option(\"delimiter\", \";\")\\\n",
    "                    .csv(f\"/home/caio/Documents/PFC/CSV_FILES/{202205}/tbMunicipio{202205}.csv\")\n"
   ]
  },
  {
   "cell_type": "markdown",
   "id": "6987ad5e",
   "metadata": {},
   "source": [
    "### Filtrando por estado de SP (35)"
   ]
  },
  {
   "cell_type": "code",
   "execution_count": 34,
   "id": "5dfe942d",
   "metadata": {},
   "outputs": [],
   "source": [
    "df_filtered_sp = tbEstabelecimento.filter(tbEstabelecimento.CO_ESTADO_GESTOR == 35)"
   ]
  },
  {
   "cell_type": "markdown",
   "id": "c2e60d45",
   "metadata": {},
   "source": [
    "### Join entre tbEstabelecimento e tbCargaHorariaSus"
   ]
  },
  {
   "cell_type": "code",
   "execution_count": 169,
   "id": "3612bc30",
   "metadata": {},
   "outputs": [],
   "source": [
    "carga_estab = tbCargaHorariaSus\\\n",
    "    .join(df_filtered_sp, tbCargaHorariaSus.CO_UNIDADE == df_filtered_sp.CO_UNIDADE)\\\n",
    "    .select(tbCargaHorariaSus.CO_UNIDADE,\n",
    "            tbCargaHorariaSus.CO_PROFISSIONAL_SUS,\n",
    "            tbCargaHorariaSus.CO_CBO,\n",
    "            tbCargaHorariaSus.TP_SUS_NAO_SUS,\n",
    "            df_filtered_sp.CO_CNES,\n",
    "            df_filtered_sp.CO_CEP,\n",
    "            df_filtered_sp.CO_MUNICIPIO_GESTOR)"
   ]
  },
  {
   "cell_type": "markdown",
   "id": "d5f0a282",
   "metadata": {},
   "source": [
    "### Join com tbMunicipio"
   ]
  },
  {
   "cell_type": "code",
   "execution_count": 171,
   "id": "b7b96287",
   "metadata": {},
   "outputs": [],
   "source": [
    "carga_estab_mun = carga_estab\\\n",
    "    .join(tbMunicipio, carga_estab.CO_MUNICIPIO_GESTOR == tbMunicipio.CO_MUNICIPIO)\\\n",
    "    .select(carga_estab.CO_UNIDADE,\n",
    "            carga_estab.CO_PROFISSIONAL_SUS,\n",
    "            carga_estab.CO_CBO,\n",
    "            carga_estab.TP_SUS_NAO_SUS,\n",
    "            carga_estab.CO_CNES,\n",
    "            carga_estab.CO_CEP,\n",
    "            tbMunicipio.NO_MUNICIPIO,\n",
    "            tbMunicipio.CO_SIGLA_ESTADO)"
   ]
  },
  {
   "cell_type": "code",
   "execution_count": 182,
   "id": "fb782b3e",
   "metadata": {},
   "outputs": [],
   "source": [
    "df_dados = carga_estab_mun\\\n",
    "    .join(tbAtividadeProfissional, carga_estab_mun.CO_CBO == tbAtividadeProfissional.CO_CBO)\\\n",
    "    .join(rlEstabServClass, carga_estab_mun.CO_UNIDADE == rlEstabServClass.CO_UNIDADE)\\\n",
    "    .join(tbDadosProfissionalSus, carga_estab_mun.CO_PROFISSIONAL_SUS == tbDadosProfissionalSus.CO_PROFISSIONAL_SUS)\\\n",
    "    .select(carga_estab_mun.CO_UNIDADE,\n",
    "            carga_estab_mun.CO_PROFISSIONAL_SUS,\n",
    "            carga_estab_mun.CO_CBO,\n",
    "            carga_estab_mun.TP_SUS_NAO_SUS,\n",
    "            carga_estab_mun.CO_CNES,\n",
    "            carga_estab_mun.NO_MUNICIPIO,\n",
    "            carga_estab_mun.CO_SIGLA_ESTADO,\n",
    "            carga_estab_mun.CO_CEP,\n",
    "            tbAtividadeProfissional.DS_ATIVIDADE_PROFISSIONAL,\n",
    "            rlEstabServClass.CO_SERVICO,\n",
    "            rlEstabServClass.CO_CLASSIFICACAO,\n",
    "            tbDadosProfissionalSus.CO_CNS)\\\n",
    "    "
   ]
  },
  {
   "cell_type": "code",
   "execution_count": 183,
   "id": "4da33896",
   "metadata": {},
   "outputs": [],
   "source": [
    "cond = [df_dados.CO_SERVICO == tbClassificacaoServico.CO_SERVICO_ESPECIALIZADO,\n",
    "        df_dados.CO_CLASSIFICACAO == tbClassificacaoServico.CO_CLASSIFICACAO_SERVICO]\n",
    "\n",
    "df_final = df_dados.join(tbClassificacaoServico,cond)\\\n",
    "                .withColumn('REF_DATA', lit(ano_mes).cast('integer'))"
   ]
  },
  {
   "cell_type": "markdown",
   "id": "b4b4ac80",
   "metadata": {},
   "source": [
    "### FIltrar por indaiatuba e fazer o mesmo estudo do LAYOUT_JOINS, pra ver sobre dados duplicados\n",
    "\n",
    "SEPARAR EM DOIS DATAFRAMES (PROFISSIONAIS E ESTABELECIMENTOS(SERVICOS))"
   ]
  },
  {
   "cell_type": "code",
   "execution_count": 186,
   "id": "7c5129dd",
   "metadata": {},
   "outputs": [
    {
     "name": "stderr",
     "output_type": "stream",
     "text": [
      "                                                                                \r"
     ]
    }
   ],
   "source": [
    "df_final.write.csv(f\"/home/caio/Documents/PFC/CURATED_FILES/{ano_mes}\")"
   ]
  }
 ],
 "metadata": {
  "kernelspec": {
   "display_name": "Python 3.8.10 64-bit",
   "language": "python",
   "name": "python3"
  },
  "language_info": {
   "codemirror_mode": {
    "name": "ipython",
    "version": 3
   },
   "file_extension": ".py",
   "mimetype": "text/x-python",
   "name": "python",
   "nbconvert_exporter": "python",
   "pygments_lexer": "ipython3",
   "version": "3.8.10"
  },
  "vscode": {
   "interpreter": {
    "hash": "916dbcbb3f70747c44a77c7bcd40155683ae19c65e1c03b4aa3499c5328201f1"
   }
  }
 },
 "nbformat": 4,
 "nbformat_minor": 5
}
