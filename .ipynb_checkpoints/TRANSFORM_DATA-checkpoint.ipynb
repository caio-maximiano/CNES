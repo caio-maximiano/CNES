{
 "cells": [
  {
   "cell_type": "code",
   "execution_count": 13,
   "id": "b07c7916",
   "metadata": {},
   "outputs": [],
   "source": [
    "%run ./SETUP.ipynb"
   ]
  },
  {
   "cell_type": "markdown",
   "id": "45f231ed",
   "metadata": {},
   "source": [
    "# Extraindo arquivos"
   ]
  },
  {
   "cell_type": "code",
   "execution_count": 14,
   "id": "1269c148",
   "metadata": {},
   "outputs": [
    {
     "name": "stdout",
     "output_type": "stream",
     "text": [
      "202202\n"
     ]
    }
   ],
   "source": [
    "extract_zip(ano_mes)"
   ]
  },
  {
   "cell_type": "code",
   "execution_count": null,
   "id": "dd4a702a",
   "metadata": {},
   "outputs": [],
   "source": [
    "extract_csv(ano_mes)"
   ]
  },
  {
   "cell_type": "code",
   "execution_count": 15,
   "id": "8a98457d",
   "metadata": {},
   "outputs": [],
   "source": [
    "tbCargaHorariaSus = get_csv('tbCargaHorariaSus', ano_mes)\n",
    "rlEstabServClass = get_csv('rlEstabServClass', ano_mes)\n",
    "tbAtividadeProfissional = get_csv('tbAtividadeProfissional', ano_mes)\n",
    "tbClassificacaoServico = get_csv('tbClassificacaoServico', ano_mes)\n",
    "tbDadosProfissionalSus = get_csv('tbDadosProfissionalSus', ano_mes)\n",
    "tbEstabelecimento = get_csv('tbEstabelecimento', ano_mes)\n",
    "tbMunicipio = get_csv('tbMunicipio', ano_mes)"
   ]
  },
  {
   "cell_type": "markdown",
   "id": "af2e1011",
   "metadata": {},
   "source": [
    "# Transformando arquivos finais"
   ]
  },
  {
   "cell_type": "code",
   "execution_count": 16,
   "id": "88aba794",
   "metadata": {},
   "outputs": [],
   "source": [
    "cond_sp = [tbEstabelecimento.CO_MUNICIPIO_GESTOR == tbMunicipio.CO_MUNICIPIO,\n",
    "           tbEstabelecimento.CO_ESTADO_GESTOR == 35] #SP\n",
    "\n",
    "cond_serv = [rlEstabServClass.CO_SERVICO == tbClassificacaoServico.CO_SERVICO_ESPECIALIZADO,\n",
    "        rlEstabServClass.CO_CLASSIFICACAO == tbClassificacaoServico.CO_CLASSIFICACAO_SERVICO]\n",
    "\n",
    "estab_munic = tbEstabelecimento.join(tbMunicipio, cond_sp)\n",
    "\n",
    "\n",
    "df_serv = rlEstabServClass\\\n",
    "            .join(tbClassificacaoServico, cond_serv)\\\n",
    "            .join(estab_munic, rlEstabServClass.CO_UNIDADE == estab_munic.CO_UNIDADE)\\\n",
    "            .select(rlEstabServClass.CO_UNIDADE,\n",
    "                rlEstabServClass.CO_SERVICO,\n",
    "                rlEstabServClass.CO_CLASSIFICACAO,\n",
    "                tbClassificacaoServico.DS_CLASSIFICACAO_SERVICO)\\\n",
    "            .withColumn('DATA_INGESTAO', to_date(current_timestamp()))"
   ]
  },
  {
   "cell_type": "code",
   "execution_count": 17,
   "id": "d886add0",
   "metadata": {},
   "outputs": [],
   "source": [
    "df_final = tbCargaHorariaSus\\\n",
    "    .join(tbAtividadeProfissional, tbCargaHorariaSus.CO_CBO ==tbAtividadeProfissional.CO_CBO)\\\n",
    "    .join(estab_munic, tbCargaHorariaSus.CO_UNIDADE == estab_munic.CO_UNIDADE)\\\n",
    "    .join(tbDadosProfissionalSus, tbCargaHorariaSus.CO_PROFISSIONAL_SUS == tbDadosProfissionalSus.CO_PROFISSIONAL_SUS)\\\n",
    "    .select(tbCargaHorariaSus.CO_UNIDADE,\n",
    "            tbCargaHorariaSus.CO_PROFISSIONAL_SUS,\n",
    "            tbDadosProfissionalSus.NO_PROFISSIONAL,\n",
    "            tbCargaHorariaSus.CO_CBO,\n",
    "            tbCargaHorariaSus.TP_SUS_NAO_SUS,            \n",
    "            tbAtividadeProfissional.DS_ATIVIDADE_PROFISSIONAL,\n",
    "            estab_munic.NO_FANTASIA,\n",
    "            estab_munic.NO_BAIRRO,\n",
    "            estab_munic.NO_MUNICIPIO,\n",
    "            estab_munic.CO_MUNICIPIO,\n",
    "            estab_munic.CO_SIGLA_ESTADO,\n",
    "            estab_munic.CO_CEP,\n",
    "            )\\\n",
    "    .withColumn('DATA_INGESTAO', to_date(current_timestamp()))"
   ]
  },
  {
   "cell_type": "markdown",
   "id": "963fac55",
   "metadata": {},
   "source": [
    "# Carregando arquivos finais"
   ]
  },
  {
   "cell_type": "code",
   "execution_count": 18,
   "id": "0db14c37",
   "metadata": {},
   "outputs": [],
   "source": [
    "write_curated_file(df_final, 'curated_estabelecimentos', ano_mes)"
   ]
  },
  {
   "cell_type": "code",
   "execution_count": 19,
   "id": "b7008669",
   "metadata": {},
   "outputs": [],
   "source": [
    "write_curated_file(df_serv, 'curated_servicos', ano_mes)"
   ]
  },
  {
   "cell_type": "code",
   "execution_count": 20,
   "id": "c9947882",
   "metadata": {
    "scrolled": true
   },
   "outputs": [
    {
     "name": "stdout",
     "output_type": "stream",
     "text": [
      "Table curated_servicos updated\n",
      "PostgreSQL connection is closed\n"
     ]
    }
   ],
   "source": [
    "update_table('curated_servicos', 'curated_servicos', ano_mes)"
   ]
  },
  {
   "cell_type": "code",
   "execution_count": 21,
   "id": "969c0323",
   "metadata": {},
   "outputs": [
    {
     "name": "stdout",
     "output_type": "stream",
     "text": [
      "Table curated_estabelecimentos updated\n",
      "PostgreSQL connection is closed\n"
     ]
    }
   ],
   "source": [
    "update_table('curated_estabelecimentos', 'curated_estabelecimentos', ano_mes)"
   ]
  }
 ],
 "metadata": {
  "kernelspec": {
   "display_name": "Python 3 (ipykernel)",
   "language": "python",
   "name": "python3"
  },
  "language_info": {
   "codemirror_mode": {
    "name": "ipython",
    "version": 3
   },
   "file_extension": ".py",
   "mimetype": "text/x-python",
   "name": "python",
   "nbconvert_exporter": "python",
   "pygments_lexer": "ipython3",
   "version": "3.8.13"
  }
 },
 "nbformat": 4,
 "nbformat_minor": 5
}
