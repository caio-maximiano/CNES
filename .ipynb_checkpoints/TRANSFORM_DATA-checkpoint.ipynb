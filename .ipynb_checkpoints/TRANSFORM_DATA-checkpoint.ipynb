{
 "cells": [
  {
   "cell_type": "code",
   "execution_count": 2,
   "id": "b07c7916",
   "metadata": {},
   "outputs": [],
   "source": [
    "from pyspark.sql import SparkSession\n",
    "from pyspark.sql.functions import *\n",
    "import cx_Oracle\n",
    "import os\n",
    "\n",
    "spark = SparkSession \\\n",
    "        .builder \\\n",
    "        .appName(\"PFC\") \\\n",
    "        .getOrCreate()\n",
    "\n",
    "ano_mes = 202202"
   ]
  },
  {
   "cell_type": "code",
   "execution_count": 6,
   "id": "b3288181",
   "metadata": {},
   "outputs": [],
   "source": [
    "def get_csv(file_name, ano_mes):\n",
    "    csv_path = f\"C:/Users/013503631/Documents/Caio/PFC/CNES_ETL_PFC/CSV_FILES/{ano_mes}\"\n",
    "    try:\n",
    "         #TROCARRRR VIRGULAR\n",
    "        df = spark.read\\\n",
    "                .option(\"header\", \"true\")\\\n",
    "                .option(\"delimiter\", \";\")\\\n",
    "                .csv(f\"{csv_path}/{file_name}{ano_mes}.csv\")\n",
    "        return df\n",
    "    except:\n",
    "        print(\"O erro\", sys.exc_info()[0], \"ocorreu.\")\n",
    "        \n",
    "def write_curated_file(df, file_name, ano_mes):\n",
    "    curated_path = f'C:/Users/013503631/Documents/Caio/PFC/CNES_ETL_PFC/CURATED_FILES/{file_name}_{ano_mes}'\n",
    "\n",
    "    try:\n",
    "        df.coalesce(1)\\\n",
    "                .write\\\n",
    "                .mode(\"overwrite\")\\\n",
    "                .option(\"header\",\"True\")\\\n",
    "                .csv(f\"{curated_path}\")\n",
    "\n",
    "        for partition in os.listdir(f\"{curated_path}\"):\n",
    "            if partition.startswith(\"part-\"):\n",
    "                old_name = os.path.join(f\"{curated_path}\", partition)\n",
    "                new_name = os.path.join(f\"{curated_path}\", f\"{file_name}_{ano_mes}.csv\")\n",
    "                os.rename(old_name, new_name)\n",
    "    \n",
    "    except:\n",
    "        print(\"O erro\", sys.exc_info()[0], \"ocorreu.\")\n",
    "\n",
    "\n",
    "def update_table(table_name, file_name, ano_mes):\n",
    "\n",
    "    try:\n",
    "        con = cx_Oracle.connect('system/system@localhost')\n",
    "        cursor = con.cursor() \n",
    "\n",
    "        new_file = f'/home/caio/Documents/PFC/CURATED_FILES/{file_name}_{ano_mes}/{file_name}_{ano_mes}.csv'\n",
    "\n",
    "        truncate = f'TRUNCATE TABLE {table_name}'\n",
    "        cursor.execute(truncate)\n",
    "        \n",
    "        update = f'''COPY {table_name} FROM '{new_file}' DELIMITER ',' CSV HEADER;'''\n",
    "        cursor.execute(update)\n",
    "        print(f\"Table {table_name} updated\")\n",
    "    \n",
    "    except (Exception, psycopg2.Error) as error:\n",
    "        print(\"O erro\", sys.exc_info()[0], \"ocorreu.\")\n",
    "\n",
    "    finally:\n",
    "        # closing database connection.\n",
    "        if conn:\n",
    "            cursor.close()\n",
    "            conn.close()\n",
    "            print(\"PostgreSQL connection is closed\")"
   ]
  },
  {
   "cell_type": "code",
   "execution_count": 7,
   "id": "8a98457d",
   "metadata": {},
   "outputs": [],
   "source": [
    "tbCargaHorariaSus = get_csv('tbCargaHorariaSus', ano_mes)\n",
    "rlEstabServClass = get_csv('rlEstabServClass', ano_mes)\n",
    "tbAtividadeProfissional = get_csv('tbAtividadeProfissional', ano_mes)\n",
    "tbClassificacaoServico = get_csv('tbClassificacaoServico', ano_mes)\n",
    "tbDadosProfissionalSus = get_csv('tbDadosProfissionalSus', ano_mes)\n",
    "tbEstabelecimento = get_csv('tbEstabelecimento', ano_mes)\n",
    "tbMunicipio = get_csv('tbMunicipio', ano_mes)"
   ]
  },
  {
   "cell_type": "code",
   "execution_count": 8,
   "id": "88aba794",
   "metadata": {},
   "outputs": [],
   "source": [
    "cond_sp = [tbEstabelecimento.CO_MUNICIPIO_GESTOR == tbMunicipio.CO_MUNICIPIO,\n",
    "           tbEstabelecimento.CO_ESTADO_GESTOR == 35]\n",
    "\n",
    "cond_serv = [rlEstabServClass.CO_SERVICO == tbClassificacaoServico.CO_SERVICO_ESPECIALIZADO,\n",
    "        rlEstabServClass.CO_CLASSIFICACAO == tbClassificacaoServico.CO_CLASSIFICACAO_SERVICO]\n",
    "\n",
    "estab_munic = tbEstabelecimento.join(tbMunicipio, cond_sp)\n",
    "\n",
    "#VERIFICAR POR NAS AMOSTRA TA 2321+12\n",
    "df_serv = rlEstabServClass\\\n",
    "            .join(tbClassificacaoServico, cond_serv)\\\n",
    "            .join(estab_munic, rlEstabServClass.CO_UNIDADE == estab_munic.CO_UNIDADE)\\\n",
    "            .select(rlEstabServClass.CO_UNIDADE,\n",
    "                rlEstabServClass.CO_SERVICO,\n",
    "                rlEstabServClass.CO_CLASSIFICACAO,\n",
    "                tbClassificacaoServico.DS_CLASSIFICACAO_SERVICO)\\\n",
    "            .withColumn('DATA_INGESTAO', to_date(current_timestamp()))"
   ]
  },
  {
   "cell_type": "code",
   "execution_count": 10,
   "id": "d886add0",
   "metadata": {},
   "outputs": [],
   "source": [
    "df_final = tbCargaHorariaSus\\\n",
    "    .join(tbAtividadeProfissional, tbCargaHorariaSus.CO_CBO ==tbAtividadeProfissional.CO_CBO)\\\n",
    "    .join(estab_munic, tbCargaHorariaSus.CO_UNIDADE == estab_munic.CO_UNIDADE)\\\n",
    "    .join(tbDadosProfissionalSus, tbCargaHorariaSus.CO_PROFISSIONAL_SUS == tbDadosProfissionalSus.CO_PROFISSIONAL_SUS)\\\n",
    "    .select(tbCargaHorariaSus.CO_UNIDADE,\n",
    "            tbCargaHorariaSus.CO_PROFISSIONAL_SUS,\n",
    "            tbDadosProfissionalSus.NO_PROFISSIONAL,\n",
    "            tbCargaHorariaSus.CO_CBO,\n",
    "            tbCargaHorariaSus.TP_SUS_NAO_SUS,            \n",
    "            tbAtividadeProfissional.DS_ATIVIDADE_PROFISSIONAL,\n",
    "            estab_munic.NO_FANTASIA,\n",
    "            estab_munic.NO_BAIRRO,\n",
    "            estab_munic.NO_MUNICIPIO,\n",
    "            estab_munic.CO_SIGLA_ESTADO,\n",
    "            estab_munic.CO_CEP,\n",
    "            )\\\n",
    "    .withColumn('DATA_INGESTAO', to_date(current_timestamp()))"
   ]
  },
  {
   "cell_type": "code",
   "execution_count": 11,
   "id": "0db14c37",
   "metadata": {},
   "outputs": [],
   "source": [
    "write_curated_file(df_final, 'curated_estabelecimentos', ano_mes)"
   ]
  },
  {
   "cell_type": "code",
   "execution_count": 12,
   "id": "b7008669",
   "metadata": {},
   "outputs": [],
   "source": [
    "write_curated_file(df_final, 'curated_servicos', ano_mes)"
   ]
  },
  {
   "cell_type": "code",
   "execution_count": null,
   "id": "f754c342",
   "metadata": {},
   "outputs": [],
   "source": []
  },
  {
   "cell_type": "code",
   "execution_count": null,
   "id": "d0693b14",
   "metadata": {},
   "outputs": [],
   "source": []
  }
 ],
 "metadata": {
  "kernelspec": {
   "display_name": "Python 3 (ipykernel)",
   "language": "python",
   "name": "python3"
  },
  "language_info": {
   "codemirror_mode": {
    "name": "ipython",
    "version": 3
   },
   "file_extension": ".py",
   "mimetype": "text/x-python",
   "name": "python",
   "nbconvert_exporter": "python",
   "pygments_lexer": "ipython3",
   "version": "3.8.13"
  }
 },
 "nbformat": 4,
 "nbformat_minor": 5
}
