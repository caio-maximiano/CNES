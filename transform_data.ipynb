{
 "cells": [
  {
   "cell_type": "markdown",
   "id": "82b46bf1",
   "metadata": {},
   "source": [
    "# Inicializando funções e variáveis do processo de ETL"
   ]
  },
  {
   "cell_type": "code",
   "execution_count": 42,
   "id": "b07c7916",
   "metadata": {},
   "outputs": [
    {
     "ename": "Exception",
     "evalue": "File `'./SETUP.py'` not found.",
     "output_type": "error",
     "traceback": [
      "\u001b[1;31m---------------------------------------------------------------------------\u001b[0m",
      "\u001b[1;31mOSError\u001b[0m                                   Traceback (most recent call last)",
      "File \u001b[1;32m~\\Anaconda3\\envs\\venv\\lib\\site-packages\\IPython\\core\\magics\\execution.py:696\u001b[0m, in \u001b[0;36mExecutionMagics.run\u001b[1;34m(self, parameter_s, runner, file_finder)\u001b[0m\n\u001b[0;32m    695\u001b[0m     fpath \u001b[38;5;241m=\u001b[39m arg_lst[\u001b[38;5;241m0\u001b[39m]\n\u001b[1;32m--> 696\u001b[0m     filename \u001b[38;5;241m=\u001b[39m \u001b[43mfile_finder\u001b[49m\u001b[43m(\u001b[49m\u001b[43mfpath\u001b[49m\u001b[43m)\u001b[49m\n\u001b[0;32m    697\u001b[0m \u001b[38;5;28;01mexcept\u001b[39;00m \u001b[38;5;167;01mIndexError\u001b[39;00m \u001b[38;5;28;01mas\u001b[39;00m e:\n",
      "File \u001b[1;32m~\\Anaconda3\\envs\\venv\\lib\\site-packages\\IPython\\utils\\path.py:91\u001b[0m, in \u001b[0;36mget_py_filename\u001b[1;34m(name)\u001b[0m\n\u001b[0;32m     90\u001b[0m \u001b[38;5;28;01melse\u001b[39;00m:\n\u001b[1;32m---> 91\u001b[0m     \u001b[38;5;28;01mraise\u001b[39;00m \u001b[38;5;167;01mIOError\u001b[39;00m(\u001b[38;5;124m'\u001b[39m\u001b[38;5;124mFile `\u001b[39m\u001b[38;5;132;01m%r\u001b[39;00m\u001b[38;5;124m` not found.\u001b[39m\u001b[38;5;124m'\u001b[39m \u001b[38;5;241m%\u001b[39m name)\n",
      "\u001b[1;31mOSError\u001b[0m: File `'./SETUP.py'` not found.",
      "\nThe above exception was the direct cause of the following exception:\n",
      "\u001b[1;31mException\u001b[0m                                 Traceback (most recent call last)",
      "Input \u001b[1;32mIn [42]\u001b[0m, in \u001b[0;36m<cell line: 1>\u001b[1;34m()\u001b[0m\n\u001b[1;32m----> 1\u001b[0m \u001b[43mget_ipython\u001b[49m\u001b[43m(\u001b[49m\u001b[43m)\u001b[49m\u001b[38;5;241;43m.\u001b[39;49m\u001b[43mrun_line_magic\u001b[49m\u001b[43m(\u001b[49m\u001b[38;5;124;43m'\u001b[39;49m\u001b[38;5;124;43mrun\u001b[39;49m\u001b[38;5;124;43m'\u001b[39;49m\u001b[43m,\u001b[49m\u001b[43m \u001b[49m\u001b[38;5;124;43m'\u001b[39;49m\u001b[38;5;124;43m./SETUP\u001b[39;49m\u001b[38;5;124;43m'\u001b[39;49m\u001b[43m)\u001b[49m\n",
      "File \u001b[1;32m~\\Anaconda3\\envs\\venv\\lib\\site-packages\\IPython\\core\\interactiveshell.py:2305\u001b[0m, in \u001b[0;36mInteractiveShell.run_line_magic\u001b[1;34m(self, magic_name, line, _stack_depth)\u001b[0m\n\u001b[0;32m   2303\u001b[0m     kwargs[\u001b[38;5;124m'\u001b[39m\u001b[38;5;124mlocal_ns\u001b[39m\u001b[38;5;124m'\u001b[39m] \u001b[38;5;241m=\u001b[39m \u001b[38;5;28mself\u001b[39m\u001b[38;5;241m.\u001b[39mget_local_scope(stack_depth)\n\u001b[0;32m   2304\u001b[0m \u001b[38;5;28;01mwith\u001b[39;00m \u001b[38;5;28mself\u001b[39m\u001b[38;5;241m.\u001b[39mbuiltin_trap:\n\u001b[1;32m-> 2305\u001b[0m     result \u001b[38;5;241m=\u001b[39m \u001b[43mfn\u001b[49m\u001b[43m(\u001b[49m\u001b[38;5;241;43m*\u001b[39;49m\u001b[43margs\u001b[49m\u001b[43m,\u001b[49m\u001b[43m \u001b[49m\u001b[38;5;241;43m*\u001b[39;49m\u001b[38;5;241;43m*\u001b[39;49m\u001b[43mkwargs\u001b[49m\u001b[43m)\u001b[49m\n\u001b[0;32m   2306\u001b[0m \u001b[38;5;28;01mreturn\u001b[39;00m result\n",
      "File \u001b[1;32m~\\Anaconda3\\envs\\venv\\lib\\site-packages\\IPython\\core\\magics\\execution.py:707\u001b[0m, in \u001b[0;36mExecutionMagics.run\u001b[1;34m(self, parameter_s, runner, file_finder)\u001b[0m\n\u001b[0;32m    705\u001b[0m     \u001b[38;5;28;01mif\u001b[39;00m os\u001b[38;5;241m.\u001b[39mname \u001b[38;5;241m==\u001b[39m \u001b[38;5;124m'\u001b[39m\u001b[38;5;124mnt\u001b[39m\u001b[38;5;124m'\u001b[39m \u001b[38;5;129;01mand\u001b[39;00m re\u001b[38;5;241m.\u001b[39mmatch(\u001b[38;5;124mr\u001b[39m\u001b[38;5;124m\"\u001b[39m\u001b[38;5;124m^\u001b[39m\u001b[38;5;124m'\u001b[39m\u001b[38;5;124m.*\u001b[39m\u001b[38;5;124m'\u001b[39m\u001b[38;5;124m$\u001b[39m\u001b[38;5;124m\"\u001b[39m,fpath):\n\u001b[0;32m    706\u001b[0m         warn(\u001b[38;5;124m'\u001b[39m\u001b[38;5;124mFor Windows, use double quotes to wrap a filename: \u001b[39m\u001b[38;5;132;01m%r\u001b[39;00m\u001b[38;5;124mun \u001b[39m\u001b[38;5;124m\"\u001b[39m\u001b[38;5;124mmypath\u001b[39m\u001b[38;5;130;01m\\\\\u001b[39;00m\u001b[38;5;124mmyfile.py\u001b[39m\u001b[38;5;124m\"\u001b[39m\u001b[38;5;124m'\u001b[39m)\n\u001b[1;32m--> 707\u001b[0m     \u001b[38;5;28;01mraise\u001b[39;00m \u001b[38;5;167;01mException\u001b[39;00m(msg) \u001b[38;5;28;01mfrom\u001b[39;00m \u001b[38;5;21;01me\u001b[39;00m\n\u001b[0;32m    708\u001b[0m \u001b[38;5;28;01mexcept\u001b[39;00m \u001b[38;5;167;01mTypeError\u001b[39;00m:\n\u001b[0;32m    709\u001b[0m     \u001b[38;5;28;01mif\u001b[39;00m fpath \u001b[38;5;129;01min\u001b[39;00m sys\u001b[38;5;241m.\u001b[39mmeta_path:\n",
      "\u001b[1;31mException\u001b[0m: File `'./SETUP.py'` not found."
     ]
    }
   ],
   "source": [
    "%run ./SETUP"
   ]
  },
  {
   "cell_type": "markdown",
   "id": "8d70b3f0",
   "metadata": {},
   "source": [
    "# Extraindo arquivos"
   ]
  },
  {
   "cell_type": "code",
   "execution_count": 32,
   "id": "6c48de32",
   "metadata": {},
   "outputs": [
    {
     "name": "stdout",
     "output_type": "stream",
     "text": [
      "-1 / unknown"
     ]
    }
   ],
   "source": [
    "extract_zip(ano_mes)"
   ]
  },
  {
   "cell_type": "code",
   "execution_count": 33,
   "id": "b25d2219",
   "metadata": {},
   "outputs": [],
   "source": [
    "extract_csv(ano_mes)"
   ]
  },
  {
   "cell_type": "code",
   "execution_count": 44,
   "id": "a2a61f5f",
   "metadata": {},
   "outputs": [],
   "source": [
    "arquivos_cnes = ['tbCargaHorariaSus', 'rlEstabServClass', 'tbAtividadeProfissional', 'tbClassificacaoServico',\\\n",
    "                 'tbDadosProfissionalSus', 'tbEstabelecimento', 'tbMunicipio']\n",
    "\n",
    "for file in arquivos_cnes:\n",
    "    file = get_csv(file, ano_mes)"
   ]
  },
  {
   "cell_type": "markdown",
   "id": "59a89607",
   "metadata": {},
   "source": [
    "# Transformando arquivos finais"
   ]
  },
  {
   "cell_type": "code",
   "execution_count": 45,
   "id": "88aba794",
   "metadata": {},
   "outputs": [],
   "source": [
    "cond_sp = [tbEstabelecimento.CO_MUNICIPIO_GESTOR == tbMunicipio.CO_MUNICIPIO,\n",
    "           tbEstabelecimento.CO_ESTADO_GESTOR == 35] #SP\n",
    "\n",
    "cond_serv = [rlEstabServClass.CO_SERVICO == tbClassificacaoServico.CO_SERVICO_ESPECIALIZADO,\n",
    "        rlEstabServClass.CO_CLASSIFICACAO == tbClassificacaoServico.CO_CLASSIFICACAO_SERVICO]\n",
    "\n",
    "estab_munic = tbEstabelecimento.join(tbMunicipio, cond_sp)\n",
    "\n",
    "\n",
    "df_serv = rlEstabServClass\\\n",
    "            .join(tbClassificacaoServico, cond_serv)\\\n",
    "            .join(estab_munic, rlEstabServClass.CO_UNIDADE == estab_munic.CO_UNIDADE)\\\n",
    "            .select(rlEstabServClass.CO_UNIDADE,\n",
    "                rlEstabServClass.CO_SERVICO,\n",
    "                rlEstabServClass.CO_CLASSIFICACAO,\n",
    "                tbClassificacaoServico.DS_CLASSIFICACAO_SERVICO)\\\n",
    "            .withColumn('DATA_INGESTAO', to_date(current_timestamp()))"
   ]
  },
  {
   "cell_type": "code",
   "execution_count": 46,
   "id": "d886add0",
   "metadata": {},
   "outputs": [],
   "source": [
    "df_final = tbCargaHorariaSus\\\n",
    "    .join(tbAtividadeProfissional, tbCargaHorariaSus.CO_CBO ==tbAtividadeProfissional.CO_CBO)\\\n",
    "    .join(estab_munic, tbCargaHorariaSus.CO_UNIDADE == estab_munic.CO_UNIDADE)\\\n",
    "    .join(tbDadosProfissionalSus, tbCargaHorariaSus.CO_PROFISSIONAL_SUS == tbDadosProfissionalSus.CO_PROFISSIONAL_SUS)\\\n",
    "    .select(tbCargaHorariaSus.CO_UNIDADE,\n",
    "            tbCargaHorariaSus.CO_PROFISSIONAL_SUS,\n",
    "            tbDadosProfissionalSus.NO_PROFISSIONAL,\n",
    "            tbCargaHorariaSus.CO_CBO,\n",
    "            tbCargaHorariaSus.TP_SUS_NAO_SUS,            \n",
    "            tbAtividadeProfissional.DS_ATIVIDADE_PROFISSIONAL,\n",
    "            estab_munic.NO_FANTASIA,\n",
    "            estab_munic.NO_BAIRRO,\n",
    "            estab_munic.NO_MUNICIPIO,\n",
    "            estab_munic.CO_MUNICIPIO,\n",
    "            estab_munic.CO_SIGLA_ESTADO,\n",
    "            estab_munic.CO_CEP,\n",
    "            )\\\n",
    "    .withColumn('DATA_INGESTAO', to_date(current_timestamp()))"
   ]
  },
  {
   "cell_type": "markdown",
   "id": "e9a61d14",
   "metadata": {},
   "source": [
    "# Carregando arquivos finais"
   ]
  },
  {
   "cell_type": "code",
   "execution_count": 37,
   "id": "0db14c37",
   "metadata": {},
   "outputs": [],
   "source": [
    "write_curated_file(df_final, 'curated_estabelecimentos', ano_mes)"
   ]
  },
  {
   "cell_type": "code",
   "execution_count": 38,
   "id": "b7008669",
   "metadata": {},
   "outputs": [],
   "source": [
    "write_curated_file(df_serv, 'curated_servicos', ano_mes)"
   ]
  },
  {
   "cell_type": "code",
   "execution_count": 39,
   "id": "c9947882",
   "metadata": {
    "scrolled": true
   },
   "outputs": [
    {
     "name": "stdout",
     "output_type": "stream",
     "text": [
      "Table curated_servicos updated\n",
      "PostgreSQL connection is closed\n"
     ]
    }
   ],
   "source": [
    "update_table('curated_servicos', 'curated_servicos', ano_mes)"
   ]
  },
  {
   "cell_type": "code",
   "execution_count": 40,
   "id": "969c0323",
   "metadata": {},
   "outputs": [
    {
     "name": "stdout",
     "output_type": "stream",
     "text": [
      "Table curated_estabelecimentos updated\n",
      "PostgreSQL connection is closed\n"
     ]
    }
   ],
   "source": [
    "update_table('curated_estabelecimentos', 'curated_estabelecimentos', ano_mes)"
   ]
  }
 ],
 "metadata": {
  "kernelspec": {
   "display_name": "Python 3 (ipykernel)",
   "language": "python",
   "name": "python3"
  },
  "language_info": {
   "codemirror_mode": {
    "name": "ipython",
    "version": 3
   },
   "file_extension": ".py",
   "mimetype": "text/x-python",
   "name": "python",
   "nbconvert_exporter": "python",
   "pygments_lexer": "ipython3",
   "version": "3.8.13"
  }
 },
 "nbformat": 4,
 "nbformat_minor": 5
}
