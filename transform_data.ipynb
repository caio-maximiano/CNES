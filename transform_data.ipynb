{
 "cells": [
  {
   "cell_type": "markdown",
   "id": "82b46bf1",
   "metadata": {},
   "source": [
    "# Inicializando funções e variáveis do processo de ETL"
   ]
  },
  {
   "cell_type": "code",
   "execution_count": 1,
   "id": "7f544d2d",
   "metadata": {},
   "outputs": [],
   "source": [
    "from pyspark.sql import SparkSession\n",
    "from pyspark.sql.functions import *\n",
    "from dateutil.relativedelta import *\n",
    "import zipfile, sys, os, psycopg2, wget\n",
    "import datetime\n",
    "\n",
    "spark = SparkSession \\\n",
    "        .builder \\\n",
    "        .appName(\"PFC\") \\\n",
    "        .getOrCreate()\n",
    "        \n",
    "csv_path = \"C:/Users/013503631/Documents/CNES_SUS-jupyter/CSV_FILES/\"\n",
    "zip_path = \"C:/Users/013503631/Documents/CNES_SUS-jupyter/ZIP_FILES/\"\n",
    "curated_path = \"C:/Users/013503631/Documents/CNES_SUS-jupyter/CURATED_FILES/\"\n",
    "\n",
    "use_date = datetime.datetime.now() + relativedelta(months=-3)\n",
    "ano_mes = use_date.strftime(\"%Y%m\")"
   ]
  },
  {
   "cell_type": "code",
   "execution_count": 11,
   "id": "b07c7916",
   "metadata": {},
   "outputs": [],
   "source": [
    "def get_csv(file_name, periodo):\n",
    "    \n",
    "    file_path = f\"{csv_path}{periodo}/{file_name}{periodo}.csv\"\n",
    "    \n",
    "    try:\n",
    "        df = spark.read\\\n",
    "                .option(\"header\", \"true\")\\\n",
    "                .option(\"delimiter\", \";\")\\\n",
    "                .csv(f\"{file_path}\")\n",
    "        return df\n",
    "    except:\n",
    "        print(\"O erro\", sys.exc_info()[0], \"ocorreu.\")\n",
    "\n",
    "def write_curated_file(df, file_name, ano_mes):\n",
    "    file_path = f'{curated_path}{file_name}_{ano_mes}'\n",
    "\n",
    "    try:\n",
    "        df.coalesce(1)\\\n",
    "                .write\\\n",
    "                .mode(\"overwrite\")\\\n",
    "                .option(\"header\",\"True\")\\\n",
    "                .csv(f\"{file_path}\")\n",
    "\n",
    "        for partition in os.listdir(f\"{file_path}\"):\n",
    "            if partition.startswith(\"part-\"):\n",
    "                old_name = os.path.join(f\"{file_path}\", partition)\n",
    "                new_name = os.path.join(f\"{file_path}\", f\"{file_name}_{ano_mes}.csv\")\n",
    "                os.rename(old_name, new_name)\n",
    "    \n",
    "    except:\n",
    "        print(\"O erro\", sys.exc_info()[0], \"ocorreu.\")\n",
    "\n",
    "\n",
    "def update_table(table_name, file_name, ano_mes):\n",
    "\n",
    "    try:\n",
    "        conn = psycopg2.connect(database=\"postgres\",\n",
    "                                user='postgres', password='system', \n",
    "                                host='localhost', port='5432')\n",
    "        conn.autocommit = True\n",
    "        cursor = conn.cursor()\n",
    "\n",
    "        new_file = f'C:/Users/013503631/Documents/CNES_SUS-jupyter/CURATED_FILES/{file_name}_{ano_mes}/{file_name}_{ano_mes}.csv'\n",
    "\n",
    "        truncate = f'TRUNCATE TABLE {table_name}'\n",
    "        cursor.execute(truncate)\n",
    "        \n",
    "        update = f'''COPY {table_name} FROM '{new_file}' DELIMITER ',' CSV HEADER;'''\n",
    "        cursor.execute(update)\n",
    "        print(f\"Table {table_name} updated\")\n",
    "    \n",
    "    except (Exception, psycopg2.Error) as error:\n",
    "        print(\"Error in update operation\", error)\n",
    "\n",
    "    finally:\n",
    "        # closing database connection.\n",
    "        if conn:\n",
    "            cursor.close()\n",
    "            conn.close()\n",
    "            print(\"PostgreSQL connection is closed\")"
   ]
  },
  {
   "cell_type": "markdown",
   "id": "8d70b3f0",
   "metadata": {},
   "source": [
    "# Extraindo arquivos"
   ]
  },
  {
   "cell_type": "code",
   "execution_count": 32,
   "id": "6c48de32",
   "metadata": {},
   "outputs": [
    {
     "name": "stdout",
     "output_type": "stream",
     "text": [
      "-1 / unknown"
     ]
    }
   ],
   "source": [
    "extract_zip(ano_mes)"
   ]
  },
  {
   "cell_type": "code",
   "execution_count": 33,
   "id": "b25d2219",
   "metadata": {},
   "outputs": [],
   "source": [
    "extract_csv(ano_mes)"
   ]
  },
  {
   "cell_type": "code",
   "execution_count": 5,
   "id": "a2a61f5f",
   "metadata": {},
   "outputs": [],
   "source": [
    "tbCargaHorariaSus = get_csv('tbCargaHorariaSus', ano_mes)\n",
    "rlEstabServClass = get_csv('rlEstabServClass', ano_mes)\n",
    "tbAtividadeProfissional = get_csv('tbAtividadeProfissional', ano_mes)\n",
    "tbClassificacaoServico = get_csv('tbClassificacaoServico', ano_mes)\n",
    "tbDadosProfissionalSus = get_csv('tbDadosProfissionalSus', ano_mes)\n",
    "tbEstabelecimento = get_csv('tbEstabelecimento', ano_mes)\n",
    "tbMunicipio = get_csv('tbMunicipio', ano_mes)"
   ]
  },
  {
   "cell_type": "markdown",
   "id": "59a89607",
   "metadata": {},
   "source": [
    "# Transformando arquivos finais"
   ]
  },
  {
   "cell_type": "code",
   "execution_count": 6,
   "id": "88aba794",
   "metadata": {},
   "outputs": [],
   "source": [
    "cond_sp = [tbEstabelecimento.CO_MUNICIPIO_GESTOR == tbMunicipio.CO_MUNICIPIO,\n",
    "           tbEstabelecimento.CO_ESTADO_GESTOR == 35] #SP\n",
    "\n",
    "cond_serv = [rlEstabServClass.CO_SERVICO == tbClassificacaoServico.CO_SERVICO_ESPECIALIZADO,\n",
    "        rlEstabServClass.CO_CLASSIFICACAO == tbClassificacaoServico.CO_CLASSIFICACAO_SERVICO]\n",
    "\n",
    "estab_munic = tbEstabelecimento.join(tbMunicipio, cond_sp)\n",
    "\n",
    "\n",
    "df_serv = rlEstabServClass\\\n",
    "            .join(tbClassificacaoServico, cond_serv)\\\n",
    "            .join(estab_munic, rlEstabServClass.CO_UNIDADE == estab_munic.CO_UNIDADE)\\\n",
    "            .select(rlEstabServClass.CO_UNIDADE,\n",
    "                rlEstabServClass.CO_SERVICO,\n",
    "                rlEstabServClass.CO_CLASSIFICACAO,\n",
    "                tbClassificacaoServico.DS_CLASSIFICACAO_SERVICO)\\\n",
    "            .withColumn('DATA_INGESTAO', to_date(current_timestamp()))"
   ]
  },
  {
   "cell_type": "code",
   "execution_count": 7,
   "id": "d886add0",
   "metadata": {},
   "outputs": [],
   "source": [
    "df_final = tbCargaHorariaSus\\\n",
    "    .join(tbAtividadeProfissional, tbCargaHorariaSus.CO_CBO ==tbAtividadeProfissional.CO_CBO)\\\n",
    "    .join(estab_munic, tbCargaHorariaSus.CO_UNIDADE == estab_munic.CO_UNIDADE)\\\n",
    "    .join(tbDadosProfissionalSus, tbCargaHorariaSus.CO_PROFISSIONAL_SUS == tbDadosProfissionalSus.CO_PROFISSIONAL_SUS)\\\n",
    "    .select(tbCargaHorariaSus.CO_UNIDADE,\n",
    "            tbCargaHorariaSus.CO_PROFISSIONAL_SUS,\n",
    "            tbDadosProfissionalSus.NO_PROFISSIONAL,\n",
    "            tbCargaHorariaSus.CO_CBO,\n",
    "            tbCargaHorariaSus.TP_SUS_NAO_SUS,            \n",
    "            tbAtividadeProfissional.DS_ATIVIDADE_PROFISSIONAL,\n",
    "            estab_munic.NO_FANTASIA,\n",
    "            estab_munic.NO_BAIRRO,\n",
    "            estab_munic.NO_MUNICIPIO,\n",
    "            estab_munic.CO_MUNICIPIO,\n",
    "            estab_munic.CO_SIGLA_ESTADO,\n",
    "            estab_munic.CO_CEP,\n",
    "            )\\\n",
    "    .withColumn('DATA_INGESTAO', to_date(current_timestamp()))"
   ]
  },
  {
   "cell_type": "markdown",
   "id": "e9a61d14",
   "metadata": {},
   "source": [
    "# Carregando arquivos finais"
   ]
  },
  {
   "cell_type": "code",
   "execution_count": 8,
   "id": "0db14c37",
   "metadata": {},
   "outputs": [],
   "source": [
    "write_curated_file(df_final, 'curated_estabelecimentos', ano_mes)"
   ]
  },
  {
   "cell_type": "code",
   "execution_count": 9,
   "id": "b7008669",
   "metadata": {},
   "outputs": [],
   "source": [
    "write_curated_file(df_serv, 'curated_servicos', ano_mes)"
   ]
  },
  {
   "cell_type": "code",
   "execution_count": 15,
   "id": "c9947882",
   "metadata": {
    "scrolled": true
   },
   "outputs": [
    {
     "name": "stdout",
     "output_type": "stream",
     "text": [
      "Table curated_servicos updated\n",
      "PostgreSQL connection is closed\n"
     ]
    }
   ],
   "source": [
    "update_table('curated_servicos', 'curated_servicos', ano_mes)"
   ]
  },
  {
   "cell_type": "code",
   "execution_count": 14,
   "id": "969c0323",
   "metadata": {},
   "outputs": [
    {
     "name": "stdout",
     "output_type": "stream",
     "text": [
      "Table curated_estabelecimentos updated\n",
      "PostgreSQL connection is closed\n"
     ]
    }
   ],
   "source": [
    "update_table('curated_estabelecimentos', 'curated_estabelecimentos', ano_mes)"
   ]
  }
 ],
 "metadata": {
  "kernelspec": {
   "display_name": "Python 3.8.13 ('caio_env')",
   "language": "python",
   "name": "python3"
  },
  "language_info": {
   "codemirror_mode": {
    "name": "ipython",
    "version": 3
   },
   "file_extension": ".py",
   "mimetype": "text/x-python",
   "name": "python",
   "nbconvert_exporter": "python",
   "pygments_lexer": "ipython3",
   "version": "3.8.13"
  },
  "vscode": {
   "interpreter": {
    "hash": "b36636380d70c4e1ce59b2cae2827f89e3a1e477f68479203cf5e95502d24bd2"
   }
  }
 },
 "nbformat": 4,
 "nbformat_minor": 5
}
