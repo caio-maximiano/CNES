{
 "cells": [
  {
   "cell_type": "code",
   "execution_count": 46,
   "id": "0b4b62f5",
   "metadata": {},
   "outputs": [],
   "source": [
    "import zipfile\n",
    "import sys, os\n",
    "import wget\n",
    "\n",
    "ano_mes = 202202"
   ]
  },
  {
   "cell_type": "markdown",
   "id": "abeb9782",
   "metadata": {},
   "source": [
    "# Importando arquivos do servidor FTP"
   ]
  },
  {
   "cell_type": "code",
   "execution_count": 77,
   "id": "dd9c9f8c",
   "metadata": {},
   "outputs": [],
   "source": [
    "def extract_zip(periodo):\n",
    "    local_directory = \"C:/Users/013503631/Documents/Caio/PFC/CNES_ETL_PFC/ZIP_FILES/\"\n",
    "    ftp_directory = f\"ftp://ftp.datasus.gov.br/cnes/BASE_DE_DADOS_CNES_{ano_mes}.ZIP\"\n",
    "    \n",
    "    #Verifica se arquivo não existe para inciar downlaod do servidor FTP\n",
    "    if os.path.exists(local_directory + f\"BASE_DE_DADOS_CNES_{ano_mes}.ZIP\") == False: \n",
    "        try:\n",
    "            wget.download(ftp_directory, local_directory) #Acessa servidor FTP para baixar arquivo\n",
    "        \n",
    "        except:\n",
    "            print(\"O erro\", sys.exc_info()[0], \"ocorreu.\")\n",
    "            \n",
    "    else:\n",
    "        print(f\"O arquivos zip de {ano_mes} já existe\")"
   ]
  },
  {
   "cell_type": "code",
   "execution_count": 53,
   "id": "cc3d6f60",
   "metadata": {},
   "outputs": [
    {
     "name": "stdout",
     "output_type": "stream",
     "text": [
      "-1 / unknown"
     ]
    }
   ],
   "source": [
    "extract_zip(ano_mes)"
   ]
  },
  {
   "cell_type": "markdown",
   "id": "2e22d269",
   "metadata": {},
   "source": [
    "# Extraindo arquivos csv para transformação"
   ]
  },
  {
   "cell_type": "code",
   "execution_count": 61,
   "id": "8f66357f",
   "metadata": {},
   "outputs": [],
   "source": [
    "def extract_csv(periodo):\n",
    "    csv_path = f\"C:/Users/013503631/Documents/Caio/PFC/CNES_ETL_PFC/CSV_FILES/{periodo}\"\n",
    "    zip_path = \"C:/Users/013503631/Documents/Caio/PFC/CNES_ETL_PFC/ZIP_FILES/\"\n",
    "    \n",
    "    #Verifica se a pasta destino não existe para iniciar processo\n",
    "    if os.path.exists(csv_path) == False:\n",
    "        try:\n",
    "            os.chdir(zip_path)\n",
    "            for file in os.listdir(zip_path):\n",
    "                if zipfile.is_zipfile(file): \n",
    "                    with zipfile.ZipFile(file) as item: \n",
    "                       item.extractall(csv_path)\n",
    "                    os.remove(file)\n",
    "        except:\n",
    "            print(\"O erro\", sys.exc_info()[0], \"ocorreu.\")\n",
    "            \n",
    "    else:\n",
    "        print(f\"A pasta de destino {ano_mes} já existe\")"
   ]
  },
  {
   "cell_type": "code",
   "execution_count": 62,
   "id": "69c16e62",
   "metadata": {},
   "outputs": [
    {
     "name": "stdout",
     "output_type": "stream",
     "text": [
      "A pasta de destino 202202 já existe\n"
     ]
    }
   ],
   "source": [
    "extract_csv(ano_mes)"
   ]
  }
 ],
 "metadata": {
  "kernelspec": {
   "display_name": "Python 3 (ipykernel)",
   "language": "python",
   "name": "python3"
  },
  "language_info": {
   "codemirror_mode": {
    "name": "ipython",
    "version": 3
   },
   "file_extension": ".py",
   "mimetype": "text/x-python",
   "name": "python",
   "nbconvert_exporter": "python",
   "pygments_lexer": "ipython3",
   "version": "3.8.13"
  }
 },
 "nbformat": 4,
 "nbformat_minor": 5
}
